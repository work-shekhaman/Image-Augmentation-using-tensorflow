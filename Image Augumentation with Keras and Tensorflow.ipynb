{
 "cells": [
  {
   "cell_type": "code",
   "execution_count": 1,
   "id": "3eaeab8b",
   "metadata": {},
   "outputs": [],
   "source": [
    "from tensorflow.keras.preprocessing.image import ImageDataGenerator\n",
    "datagen = ImageDataGenerator()"
   ]
  },
  {
   "cell_type": "code",
   "execution_count": 4,
   "id": "80ac646d",
   "metadata": {},
   "outputs": [],
   "source": [
    "def funre(g):\n",
    "    print(g)"
   ]
  },
  {
   "cell_type": "code",
   "execution_count": 6,
   "id": "7ff18035",
   "metadata": {},
   "outputs": [],
   "source": [
    "def qwertd(s):\n",
    "    print(s)\n",
    "    print(\"s\")"
   ]
  },
  {
   "cell_type": "code",
   "execution_count": null,
   "id": "99f703d3",
   "metadata": {},
   "outputs": [],
   "source": []
  }
 ],
 "metadata": {
  "kernelspec": {
   "display_name": "Amyloid-beta (amy)",
   "language": "python",
   "name": "abeta"
  },
  "language_info": {
   "codemirror_mode": {
    "name": "ipython",
    "version": 3
   },
   "file_extension": ".py",
   "mimetype": "text/x-python",
   "name": "python",
   "nbconvert_exporter": "python",
   "pygments_lexer": "ipython3",
   "version": "3.9.12"
  }
 },
 "nbformat": 4,
 "nbformat_minor": 5
}
